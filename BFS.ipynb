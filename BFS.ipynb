{
 "cells": [
  {
   "cell_type": "markdown",
   "metadata": {},
   "source": [
    "# Breath-First Search algorithm implementation. Anton Ryabtsev. DCAM MIPT."
   ]
  },
  {
   "cell_type": "code",
   "execution_count": 40,
   "metadata": {},
   "outputs": [],
   "source": [
    "def bfs(graph, start):\n",
    "    color = {}\n",
    "    for key in graph.keys():\n",
    "        color[key] = 'white'\n",
    "    color[start] = 'black'\n",
    "    stack = []\n",
    "    stack.append(graph[start])\n",
    "    stack = [item for sublist in stack for item in sublist]\n",
    "    for node in stack:\n",
    "        color[node] = 'black'\n",
    "    bfsTree = [[start, item] for item in stack]\n",
    "    while stack:\n",
    "        newNode = stack.pop(0)\n",
    "        for node in graph[newNode]:\n",
    "            if (color[node] == 'white'):\n",
    "                bfsTree.append([newNode, node])\n",
    "                stack.append(node)\n",
    "                color[node] = 'black'\n",
    "    return bfsTree"
   ]
  },
  {
   "cell_type": "code",
   "execution_count": 41,
   "metadata": {},
   "outputs": [],
   "source": [
    "graph = {'A': ['B', 'C'],\n",
    "         'B': ['A', 'C', 'D'],\n",
    "         'C': ['A', 'B', 'D', 'E', 'G'],\n",
    "         'D': ['B', 'C', 'E'],\n",
    "         'E': ['D', 'C', 'F'],\n",
    "         'F': ['E'],\n",
    "         'G': ['C']}\n",
    "\n",
    "bfsTree = []"
   ]
  },
  {
   "cell_type": "markdown",
   "metadata": {},
   "source": [
    "# Our graph: \n",
    "\n",
    "<img src=\"Graph1.png\" width=\"700\"/>\n",
    "\n",
    "The $bfs$ function does a breath search and returns a set of edges (pair of connected nodes) included in the search tree."
   ]
  },
  {
   "cell_type": "code",
   "execution_count": 45,
   "metadata": {},
   "outputs": [
    {
     "name": "stdout",
     "output_type": "stream",
     "text": [
      "Search tree consists of:\n"
     ]
    },
    {
     "data": {
      "text/plain": [
       "[['A', 'B'], ['A', 'C'], ['B', 'D'], ['C', 'E'], ['C', 'G'], ['E', 'F']]"
      ]
     },
     "execution_count": 45,
     "metadata": {},
     "output_type": "execute_result"
    }
   ],
   "source": [
    "print(\"Search tree consists of:\")\n",
    "bfs(graph, 'A')"
   ]
  },
  {
   "cell_type": "markdown",
   "metadata": {},
   "source": [
    "# Result - search tree: \n",
    "\n",
    "<img src=\"Tree2.png\" width=\"700\"/>"
   ]
  }
 ],
 "metadata": {
  "kernelspec": {
   "display_name": "Python 3",
   "language": "python",
   "name": "python3"
  },
  "language_info": {
   "codemirror_mode": {
    "name": "ipython",
    "version": 3
   },
   "file_extension": ".py",
   "mimetype": "text/x-python",
   "name": "python",
   "nbconvert_exporter": "python",
   "pygments_lexer": "ipython3",
   "version": "3.6.3"
  }
 },
 "nbformat": 4,
 "nbformat_minor": 2
}
