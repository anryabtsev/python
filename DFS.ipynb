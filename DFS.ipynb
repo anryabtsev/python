{
 "cells": [
  {
   "cell_type": "markdown",
   "metadata": {},
   "source": [
    " # Depth-First Search algorithm implementation. Anton Ryabtsev. DCAM MIPT."
   ]
  },
  {
   "cell_type": "code",
   "execution_count": 106,
   "metadata": {},
   "outputs": [],
   "source": [
    "def dfs(graph, start):\n",
    "    nextNode = None\n",
    "    for node in graph[start]:\n",
    "        if (color[node] == 'white'):\n",
    "            nextNode = node\n",
    "            dfsTree.append([start, nextNode])\n",
    "            color[start] = 'gray'\n",
    "            dfs(graph, nextNode)\n",
    "    if (nextNode == None):\n",
    "        color[start] = 'black'\n",
    "        return\n",
    "    return dfsTree"
   ]
  },
  {
   "cell_type": "code",
   "execution_count": 107,
   "metadata": {},
   "outputs": [],
   "source": [
    "graph = {'A': ['B', 'C'],\n",
    "         'B': ['A', 'C', 'D'],\n",
    "         'C': ['A', 'B', 'D', 'E', 'G'],\n",
    "         'D': ['B', 'C', 'E'],\n",
    "         'E': ['D', 'C', 'F'],\n",
    "         'F': ['E'],\n",
    "         'G': ['C']}\n",
    "\n",
    "color = {}\n",
    "\n",
    "for key in graph.keys():\n",
    "    color[key] = 'white'\n",
    "\n",
    "dfsTree = []"
   ]
  },
  {
   "cell_type": "markdown",
   "metadata": {},
   "source": [
    "\n",
    "# Our graph: \n",
    "\n",
    "<img src=\"Graph1.png\" width=\"700\"/>\n",
    "\n",
    "The $dfs$ function does a depth search and returns a set of edges (pair of connected nodes) included in the search tree."
   ]
  },
  {
   "cell_type": "code",
   "execution_count": 108,
   "metadata": {},
   "outputs": [
    {
     "name": "stdout",
     "output_type": "stream",
     "text": [
      "Search tree consists of:\n"
     ]
    },
    {
     "data": {
      "text/plain": [
       "[['A', 'B'], ['B', 'C'], ['C', 'D'], ['D', 'E'], ['E', 'F'], ['C', 'G']]"
      ]
     },
     "execution_count": 108,
     "metadata": {},
     "output_type": "execute_result"
    }
   ],
   "source": [
    "print(\"Search tree consists of:\")\n",
    "dfs(graph, 'A')"
   ]
  },
  {
   "cell_type": "markdown",
   "metadata": {},
   "source": [
    "# Result - search tree: \n",
    "\n",
    "<img src=\"Tree.png\" width=\"700\"/>"
   ]
  }
 ],
 "metadata": {
  "kernelspec": {
   "display_name": "Python 3",
   "language": "python",
   "name": "python3"
  },
  "language_info": {
   "codemirror_mode": {
    "name": "ipython",
    "version": 3
   },
   "file_extension": ".py",
   "mimetype": "text/x-python",
   "name": "python",
   "nbconvert_exporter": "python",
   "pygments_lexer": "ipython3",
   "version": "3.6.3"
  }
 },
 "nbformat": 4,
 "nbformat_minor": 2
}
