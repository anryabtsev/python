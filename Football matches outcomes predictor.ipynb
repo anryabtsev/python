{
 "cells": [
  {
   "cell_type": "markdown",
   "metadata": {},
   "source": [
    "# Predicting the outcomes of football matches and the number of goals. $\\hspace{2cm}$     Global changers 2018."
   ]
  },
  {
   "cell_type": "code",
   "execution_count": 107,
   "metadata": {},
   "outputs": [],
   "source": [
    "import numpy as np\n",
    "import pandas as pd\n",
    "import matplotlib.pyplot as plt\n",
    "import seaborn\n",
    "from pylab import rcParams\n",
    "from scipy.stats import poisson, skellam"
   ]
  },
  {
   "cell_type": "code",
   "execution_count": 140,
   "metadata": {},
   "outputs": [],
   "source": [
    "df = pd.read_csv('D1.csv')"
   ]
  },
  {
   "cell_type": "markdown",
   "metadata": {},
   "source": [
    "[Dataset description](http://www.football-data.co.uk/notes.txt)"
   ]
  },
  {
   "cell_type": "code",
   "execution_count": 139,
   "metadata": {},
   "outputs": [
    {
     "data": {
      "text/html": [
       "<div>\n",
       "<style>\n",
       "    .dataframe thead tr:only-child th {\n",
       "        text-align: right;\n",
       "    }\n",
       "\n",
       "    .dataframe thead th {\n",
       "        text-align: left;\n",
       "    }\n",
       "\n",
       "    .dataframe tbody tr th {\n",
       "        vertical-align: top;\n",
       "    }\n",
       "</style>\n",
       "<table border=\"1\" class=\"dataframe\">\n",
       "  <thead>\n",
       "    <tr style=\"text-align: right;\">\n",
       "      <th></th>\n",
       "      <th>Div</th>\n",
       "      <th>Date</th>\n",
       "      <th>HomeTeam</th>\n",
       "      <th>AwayTeam</th>\n",
       "      <th>FTHG</th>\n",
       "      <th>FTAG</th>\n",
       "      <th>FTR</th>\n",
       "      <th>HTHG</th>\n",
       "      <th>HTAG</th>\n",
       "      <th>HTR</th>\n",
       "      <th>...</th>\n",
       "      <th>BbAHh</th>\n",
       "      <th>BbMxAHH</th>\n",
       "      <th>BbAvAHH</th>\n",
       "      <th>BbMxAHA</th>\n",
       "      <th>BbAvAHA</th>\n",
       "      <th>PSCH</th>\n",
       "      <th>PSCD</th>\n",
       "      <th>PSCA</th>\n",
       "      <th>STHG</th>\n",
       "      <th>STAG</th>\n",
       "    </tr>\n",
       "  </thead>\n",
       "  <tbody>\n",
       "    <tr>\n",
       "      <th>0</th>\n",
       "      <td>D1</td>\n",
       "      <td>24/08/18</td>\n",
       "      <td>Bayern Munich</td>\n",
       "      <td>Hoffenheim</td>\n",
       "      <td>3</td>\n",
       "      <td>1</td>\n",
       "      <td>H</td>\n",
       "      <td>1</td>\n",
       "      <td>0</td>\n",
       "      <td>H</td>\n",
       "      <td>...</td>\n",
       "      <td>-2.00</td>\n",
       "      <td>1.92</td>\n",
       "      <td>1.87</td>\n",
       "      <td>2.05</td>\n",
       "      <td>1.99</td>\n",
       "      <td>1.23</td>\n",
       "      <td>7.15</td>\n",
       "      <td>14.10</td>\n",
       "      <td>2</td>\n",
       "      <td>1</td>\n",
       "    </tr>\n",
       "    <tr>\n",
       "      <th>1</th>\n",
       "      <td>D1</td>\n",
       "      <td>25/08/18</td>\n",
       "      <td>Fortuna Dusseldorf</td>\n",
       "      <td>Augsburg</td>\n",
       "      <td>1</td>\n",
       "      <td>2</td>\n",
       "      <td>A</td>\n",
       "      <td>1</td>\n",
       "      <td>0</td>\n",
       "      <td>H</td>\n",
       "      <td>...</td>\n",
       "      <td>0.00</td>\n",
       "      <td>1.80</td>\n",
       "      <td>1.76</td>\n",
       "      <td>2.17</td>\n",
       "      <td>2.11</td>\n",
       "      <td>2.74</td>\n",
       "      <td>3.33</td>\n",
       "      <td>2.78</td>\n",
       "      <td>0</td>\n",
       "      <td>2</td>\n",
       "    </tr>\n",
       "    <tr>\n",
       "      <th>2</th>\n",
       "      <td>D1</td>\n",
       "      <td>25/08/18</td>\n",
       "      <td>Freiburg</td>\n",
       "      <td>Ein Frankfurt</td>\n",
       "      <td>0</td>\n",
       "      <td>2</td>\n",
       "      <td>A</td>\n",
       "      <td>0</td>\n",
       "      <td>1</td>\n",
       "      <td>A</td>\n",
       "      <td>...</td>\n",
       "      <td>-0.25</td>\n",
       "      <td>2.02</td>\n",
       "      <td>1.99</td>\n",
       "      <td>1.92</td>\n",
       "      <td>1.88</td>\n",
       "      <td>2.52</td>\n",
       "      <td>3.30</td>\n",
       "      <td>3.07</td>\n",
       "      <td>0</td>\n",
       "      <td>1</td>\n",
       "    </tr>\n",
       "    <tr>\n",
       "      <th>3</th>\n",
       "      <td>D1</td>\n",
       "      <td>25/08/18</td>\n",
       "      <td>Hertha</td>\n",
       "      <td>Nurnberg</td>\n",
       "      <td>1</td>\n",
       "      <td>0</td>\n",
       "      <td>H</td>\n",
       "      <td>1</td>\n",
       "      <td>0</td>\n",
       "      <td>H</td>\n",
       "      <td>...</td>\n",
       "      <td>-0.25</td>\n",
       "      <td>1.78</td>\n",
       "      <td>1.74</td>\n",
       "      <td>2.21</td>\n",
       "      <td>2.14</td>\n",
       "      <td>1.79</td>\n",
       "      <td>3.61</td>\n",
       "      <td>5.21</td>\n",
       "      <td>0</td>\n",
       "      <td>0</td>\n",
       "    </tr>\n",
       "    <tr>\n",
       "      <th>4</th>\n",
       "      <td>D1</td>\n",
       "      <td>25/08/18</td>\n",
       "      <td>M'gladbach</td>\n",
       "      <td>Leverkusen</td>\n",
       "      <td>2</td>\n",
       "      <td>0</td>\n",
       "      <td>H</td>\n",
       "      <td>0</td>\n",
       "      <td>0</td>\n",
       "      <td>D</td>\n",
       "      <td>...</td>\n",
       "      <td>0.00</td>\n",
       "      <td>2.13</td>\n",
       "      <td>2.07</td>\n",
       "      <td>1.84</td>\n",
       "      <td>1.78</td>\n",
       "      <td>2.63</td>\n",
       "      <td>3.70</td>\n",
       "      <td>2.69</td>\n",
       "      <td>2</td>\n",
       "      <td>0</td>\n",
       "    </tr>\n",
       "  </tbody>\n",
       "</table>\n",
       "<p>5 rows × 63 columns</p>\n",
       "</div>"
      ],
      "text/plain": [
       "  Div      Date            HomeTeam       AwayTeam  FTHG  FTAG FTR  HTHG  \\\n",
       "0  D1  24/08/18       Bayern Munich     Hoffenheim     3     1   H     1   \n",
       "1  D1  25/08/18  Fortuna Dusseldorf       Augsburg     1     2   A     1   \n",
       "2  D1  25/08/18            Freiburg  Ein Frankfurt     0     2   A     0   \n",
       "3  D1  25/08/18              Hertha       Nurnberg     1     0   H     1   \n",
       "4  D1  25/08/18          M'gladbach     Leverkusen     2     0   H     0   \n",
       "\n",
       "   HTAG HTR  ...   BbAHh  BbMxAHH  BbAvAHH  BbMxAHA  BbAvAHA  PSCH  PSCD  \\\n",
       "0     0   H  ...   -2.00     1.92     1.87     2.05     1.99  1.23  7.15   \n",
       "1     0   H  ...    0.00     1.80     1.76     2.17     2.11  2.74  3.33   \n",
       "2     1   A  ...   -0.25     2.02     1.99     1.92     1.88  2.52  3.30   \n",
       "3     0   H  ...   -0.25     1.78     1.74     2.21     2.14  1.79  3.61   \n",
       "4     0   D  ...    0.00     2.13     2.07     1.84     1.78  2.63  3.70   \n",
       "\n",
       "    PSCA  STHG  STAG  \n",
       "0  14.10     2     1  \n",
       "1   2.78     0     2  \n",
       "2   3.07     0     1  \n",
       "3   5.21     0     0  \n",
       "4   2.69     2     0  \n",
       "\n",
       "[5 rows x 63 columns]"
      ]
     },
     "execution_count": 139,
     "metadata": {},
     "output_type": "execute_result"
    }
   ],
   "source": [
    "df.head()"
   ]
  },
  {
   "cell_type": "code",
   "execution_count": 141,
   "metadata": {},
   "outputs": [
    {
     "data": {
      "text/html": [
       "<div>\n",
       "<style>\n",
       "    .dataframe thead tr:only-child th {\n",
       "        text-align: right;\n",
       "    }\n",
       "\n",
       "    .dataframe thead th {\n",
       "        text-align: left;\n",
       "    }\n",
       "\n",
       "    .dataframe tbody tr th {\n",
       "        vertical-align: top;\n",
       "    }\n",
       "</style>\n",
       "<table border=\"1\" class=\"dataframe\">\n",
       "  <thead>\n",
       "    <tr style=\"text-align: right;\">\n",
       "      <th></th>\n",
       "      <th>Div</th>\n",
       "      <th>Date</th>\n",
       "      <th>HomeTeam</th>\n",
       "      <th>AwayTeam</th>\n",
       "      <th>FTHG</th>\n",
       "      <th>FTAG</th>\n",
       "      <th>FTR</th>\n",
       "      <th>HTHG</th>\n",
       "      <th>HTAG</th>\n",
       "      <th>HTR</th>\n",
       "      <th>...</th>\n",
       "      <th>BbAv&lt;2.5</th>\n",
       "      <th>BbAH</th>\n",
       "      <th>BbAHh</th>\n",
       "      <th>BbMxAHH</th>\n",
       "      <th>BbAvAHH</th>\n",
       "      <th>BbMxAHA</th>\n",
       "      <th>BbAvAHA</th>\n",
       "      <th>PSCH</th>\n",
       "      <th>PSCD</th>\n",
       "      <th>PSCA</th>\n",
       "    </tr>\n",
       "  </thead>\n",
       "  <tbody>\n",
       "    <tr>\n",
       "      <th>130</th>\n",
       "      <td>D1</td>\n",
       "      <td>15/12/18</td>\n",
       "      <td>Hannover</td>\n",
       "      <td>Bayern Munich</td>\n",
       "      <td>0</td>\n",
       "      <td>4</td>\n",
       "      <td>A</td>\n",
       "      <td>0</td>\n",
       "      <td>2</td>\n",
       "      <td>A</td>\n",
       "      <td>...</td>\n",
       "      <td>3.21</td>\n",
       "      <td>23</td>\n",
       "      <td>2.00</td>\n",
       "      <td>1.90</td>\n",
       "      <td>1.82</td>\n",
       "      <td>2.15</td>\n",
       "      <td>2.03</td>\n",
       "      <td>12.32</td>\n",
       "      <td>7.26</td>\n",
       "      <td>1.23</td>\n",
       "    </tr>\n",
       "    <tr>\n",
       "      <th>131</th>\n",
       "      <td>D1</td>\n",
       "      <td>15/12/18</td>\n",
       "      <td>Hoffenheim</td>\n",
       "      <td>M'gladbach</td>\n",
       "      <td>0</td>\n",
       "      <td>0</td>\n",
       "      <td>D</td>\n",
       "      <td>0</td>\n",
       "      <td>0</td>\n",
       "      <td>D</td>\n",
       "      <td>...</td>\n",
       "      <td>3.17</td>\n",
       "      <td>21</td>\n",
       "      <td>-0.50</td>\n",
       "      <td>2.20</td>\n",
       "      <td>1.95</td>\n",
       "      <td>1.96</td>\n",
       "      <td>1.91</td>\n",
       "      <td>1.79</td>\n",
       "      <td>4.57</td>\n",
       "      <td>3.98</td>\n",
       "    </tr>\n",
       "    <tr>\n",
       "      <th>132</th>\n",
       "      <td>D1</td>\n",
       "      <td>15/12/18</td>\n",
       "      <td>Stuttgart</td>\n",
       "      <td>Hertha</td>\n",
       "      <td>2</td>\n",
       "      <td>1</td>\n",
       "      <td>H</td>\n",
       "      <td>0</td>\n",
       "      <td>1</td>\n",
       "      <td>A</td>\n",
       "      <td>...</td>\n",
       "      <td>2.04</td>\n",
       "      <td>21</td>\n",
       "      <td>0.25</td>\n",
       "      <td>1.75</td>\n",
       "      <td>1.70</td>\n",
       "      <td>2.27</td>\n",
       "      <td>2.22</td>\n",
       "      <td>2.58</td>\n",
       "      <td>3.44</td>\n",
       "      <td>2.88</td>\n",
       "    </tr>\n",
       "    <tr>\n",
       "      <th>133</th>\n",
       "      <td>D1</td>\n",
       "      <td>16/12/18</td>\n",
       "      <td>Ein Frankfurt</td>\n",
       "      <td>Leverkusen</td>\n",
       "      <td>2</td>\n",
       "      <td>1</td>\n",
       "      <td>H</td>\n",
       "      <td>1</td>\n",
       "      <td>0</td>\n",
       "      <td>H</td>\n",
       "      <td>...</td>\n",
       "      <td>2.31</td>\n",
       "      <td>20</td>\n",
       "      <td>0.00</td>\n",
       "      <td>1.78</td>\n",
       "      <td>1.74</td>\n",
       "      <td>2.21</td>\n",
       "      <td>2.14</td>\n",
       "      <td>2.51</td>\n",
       "      <td>3.87</td>\n",
       "      <td>2.72</td>\n",
       "    </tr>\n",
       "    <tr>\n",
       "      <th>134</th>\n",
       "      <td>D1</td>\n",
       "      <td>16/12/18</td>\n",
       "      <td>RB Leipzig</td>\n",
       "      <td>Mainz</td>\n",
       "      <td>4</td>\n",
       "      <td>1</td>\n",
       "      <td>H</td>\n",
       "      <td>2</td>\n",
       "      <td>1</td>\n",
       "      <td>H</td>\n",
       "      <td>...</td>\n",
       "      <td>2.41</td>\n",
       "      <td>23</td>\n",
       "      <td>-1.50</td>\n",
       "      <td>2.35</td>\n",
       "      <td>2.17</td>\n",
       "      <td>1.80</td>\n",
       "      <td>1.72</td>\n",
       "      <td>1.50</td>\n",
       "      <td>4.48</td>\n",
       "      <td>7.20</td>\n",
       "    </tr>\n",
       "  </tbody>\n",
       "</table>\n",
       "<p>5 rows × 61 columns</p>\n",
       "</div>"
      ],
      "text/plain": [
       "    Div      Date       HomeTeam       AwayTeam  FTHG  FTAG FTR  HTHG  HTAG  \\\n",
       "130  D1  15/12/18       Hannover  Bayern Munich     0     4   A     0     2   \n",
       "131  D1  15/12/18     Hoffenheim     M'gladbach     0     0   D     0     0   \n",
       "132  D1  15/12/18      Stuttgart         Hertha     2     1   H     0     1   \n",
       "133  D1  16/12/18  Ein Frankfurt     Leverkusen     2     1   H     1     0   \n",
       "134  D1  16/12/18     RB Leipzig          Mainz     4     1   H     2     1   \n",
       "\n",
       "    HTR  ...   BbAv<2.5  BbAH  BbAHh  BbMxAHH  BbAvAHH  BbMxAHA  BbAvAHA  \\\n",
       "130   A  ...       3.21    23   2.00     1.90     1.82     2.15     2.03   \n",
       "131   D  ...       3.17    21  -0.50     2.20     1.95     1.96     1.91   \n",
       "132   A  ...       2.04    21   0.25     1.75     1.70     2.27     2.22   \n",
       "133   H  ...       2.31    20   0.00     1.78     1.74     2.21     2.14   \n",
       "134   H  ...       2.41    23  -1.50     2.35     2.17     1.80     1.72   \n",
       "\n",
       "      PSCH  PSCD  PSCA  \n",
       "130  12.32  7.26  1.23  \n",
       "131   1.79  4.57  3.98  \n",
       "132   2.58  3.44  2.88  \n",
       "133   2.51  3.87  2.72  \n",
       "134   1.50  4.48  7.20  \n",
       "\n",
       "[5 rows x 61 columns]"
      ]
     },
     "execution_count": 141,
     "metadata": {},
     "output_type": "execute_result"
    }
   ],
   "source": [
    "df.tail()"
   ]
  },
  {
   "cell_type": "code",
   "execution_count": 110,
   "metadata": {},
   "outputs": [
    {
     "data": {
      "text/html": [
       "<div>\n",
       "<style>\n",
       "    .dataframe thead tr:only-child th {\n",
       "        text-align: right;\n",
       "    }\n",
       "\n",
       "    .dataframe thead th {\n",
       "        text-align: left;\n",
       "    }\n",
       "\n",
       "    .dataframe tbody tr th {\n",
       "        vertical-align: top;\n",
       "    }\n",
       "</style>\n",
       "<table border=\"1\" class=\"dataframe\">\n",
       "  <thead>\n",
       "    <tr style=\"text-align: right;\">\n",
       "      <th></th>\n",
       "      <th>Div</th>\n",
       "      <th>Date</th>\n",
       "      <th>HomeTeam</th>\n",
       "      <th>AwayTeam</th>\n",
       "      <th>FTHG</th>\n",
       "      <th>FTAG</th>\n",
       "      <th>FTR</th>\n",
       "      <th>HTHG</th>\n",
       "      <th>HTAG</th>\n",
       "      <th>HTR</th>\n",
       "      <th>...</th>\n",
       "      <th>BbAv&lt;2.5</th>\n",
       "      <th>BbAH</th>\n",
       "      <th>BbAHh</th>\n",
       "      <th>BbMxAHH</th>\n",
       "      <th>BbAvAHH</th>\n",
       "      <th>BbMxAHA</th>\n",
       "      <th>BbAvAHA</th>\n",
       "      <th>PSCH</th>\n",
       "      <th>PSCD</th>\n",
       "      <th>PSCA</th>\n",
       "    </tr>\n",
       "  </thead>\n",
       "  <tbody>\n",
       "    <tr>\n",
       "      <th>128</th>\n",
       "      <td>D1</td>\n",
       "      <td>15/12/18</td>\n",
       "      <td>Dortmund</td>\n",
       "      <td>Werder Bremen</td>\n",
       "      <td>2</td>\n",
       "      <td>1</td>\n",
       "      <td>H</td>\n",
       "      <td>2</td>\n",
       "      <td>1</td>\n",
       "      <td>H</td>\n",
       "      <td>...</td>\n",
       "      <td>2.91</td>\n",
       "      <td>23</td>\n",
       "      <td>-1.50</td>\n",
       "      <td>2.06</td>\n",
       "      <td>2.01</td>\n",
       "      <td>1.90</td>\n",
       "      <td>1.84</td>\n",
       "      <td>1.38</td>\n",
       "      <td>5.34</td>\n",
       "      <td>8.37</td>\n",
       "    </tr>\n",
       "    <tr>\n",
       "      <th>129</th>\n",
       "      <td>D1</td>\n",
       "      <td>15/12/18</td>\n",
       "      <td>Fortuna Dusseldorf</td>\n",
       "      <td>Freiburg</td>\n",
       "      <td>2</td>\n",
       "      <td>0</td>\n",
       "      <td>H</td>\n",
       "      <td>0</td>\n",
       "      <td>0</td>\n",
       "      <td>D</td>\n",
       "      <td>...</td>\n",
       "      <td>1.90</td>\n",
       "      <td>21</td>\n",
       "      <td>0.25</td>\n",
       "      <td>1.75</td>\n",
       "      <td>1.69</td>\n",
       "      <td>2.29</td>\n",
       "      <td>2.23</td>\n",
       "      <td>2.64</td>\n",
       "      <td>3.41</td>\n",
       "      <td>2.83</td>\n",
       "    </tr>\n",
       "    <tr>\n",
       "      <th>130</th>\n",
       "      <td>D1</td>\n",
       "      <td>15/12/18</td>\n",
       "      <td>Hannover</td>\n",
       "      <td>Bayern Munich</td>\n",
       "      <td>0</td>\n",
       "      <td>4</td>\n",
       "      <td>A</td>\n",
       "      <td>0</td>\n",
       "      <td>2</td>\n",
       "      <td>A</td>\n",
       "      <td>...</td>\n",
       "      <td>3.21</td>\n",
       "      <td>23</td>\n",
       "      <td>2.00</td>\n",
       "      <td>1.90</td>\n",
       "      <td>1.82</td>\n",
       "      <td>2.15</td>\n",
       "      <td>2.03</td>\n",
       "      <td>12.32</td>\n",
       "      <td>7.26</td>\n",
       "      <td>1.23</td>\n",
       "    </tr>\n",
       "    <tr>\n",
       "      <th>131</th>\n",
       "      <td>D1</td>\n",
       "      <td>15/12/18</td>\n",
       "      <td>Hoffenheim</td>\n",
       "      <td>M'gladbach</td>\n",
       "      <td>0</td>\n",
       "      <td>0</td>\n",
       "      <td>D</td>\n",
       "      <td>0</td>\n",
       "      <td>0</td>\n",
       "      <td>D</td>\n",
       "      <td>...</td>\n",
       "      <td>3.17</td>\n",
       "      <td>21</td>\n",
       "      <td>-0.50</td>\n",
       "      <td>2.20</td>\n",
       "      <td>1.95</td>\n",
       "      <td>1.96</td>\n",
       "      <td>1.91</td>\n",
       "      <td>1.79</td>\n",
       "      <td>4.57</td>\n",
       "      <td>3.98</td>\n",
       "    </tr>\n",
       "    <tr>\n",
       "      <th>132</th>\n",
       "      <td>D1</td>\n",
       "      <td>15/12/18</td>\n",
       "      <td>Stuttgart</td>\n",
       "      <td>Hertha</td>\n",
       "      <td>2</td>\n",
       "      <td>1</td>\n",
       "      <td>H</td>\n",
       "      <td>0</td>\n",
       "      <td>1</td>\n",
       "      <td>A</td>\n",
       "      <td>...</td>\n",
       "      <td>2.04</td>\n",
       "      <td>21</td>\n",
       "      <td>0.25</td>\n",
       "      <td>1.75</td>\n",
       "      <td>1.70</td>\n",
       "      <td>2.27</td>\n",
       "      <td>2.22</td>\n",
       "      <td>2.58</td>\n",
       "      <td>3.44</td>\n",
       "      <td>2.88</td>\n",
       "    </tr>\n",
       "  </tbody>\n",
       "</table>\n",
       "<p>5 rows × 61 columns</p>\n",
       "</div>"
      ],
      "text/plain": [
       "    Div      Date            HomeTeam       AwayTeam  FTHG  FTAG FTR  HTHG  \\\n",
       "128  D1  15/12/18            Dortmund  Werder Bremen     2     1   H     2   \n",
       "129  D1  15/12/18  Fortuna Dusseldorf       Freiburg     2     0   H     0   \n",
       "130  D1  15/12/18            Hannover  Bayern Munich     0     4   A     0   \n",
       "131  D1  15/12/18          Hoffenheim     M'gladbach     0     0   D     0   \n",
       "132  D1  15/12/18           Stuttgart         Hertha     2     1   H     0   \n",
       "\n",
       "     HTAG HTR  ...   BbAv<2.5  BbAH  BbAHh  BbMxAHH  BbAvAHH  BbMxAHA  \\\n",
       "128     1   H  ...       2.91    23  -1.50     2.06     2.01     1.90   \n",
       "129     0   D  ...       1.90    21   0.25     1.75     1.69     2.29   \n",
       "130     2   A  ...       3.21    23   2.00     1.90     1.82     2.15   \n",
       "131     0   D  ...       3.17    21  -0.50     2.20     1.95     1.96   \n",
       "132     1   A  ...       2.04    21   0.25     1.75     1.70     2.27   \n",
       "\n",
       "     BbAvAHA   PSCH  PSCD  PSCA  \n",
       "128     1.84   1.38  5.34  8.37  \n",
       "129     2.23   2.64  3.41  2.83  \n",
       "130     2.03  12.32  7.26  1.23  \n",
       "131     1.91   1.79  4.57  3.98  \n",
       "132     2.22   2.58  3.44  2.88  \n",
       "\n",
       "[5 rows x 61 columns]"
      ]
     },
     "execution_count": 110,
     "metadata": {},
     "output_type": "execute_result"
    }
   ],
   "source": [
    "df = df[:-2]\n",
    "df.tail()"
   ]
  },
  {
   "cell_type": "markdown",
   "metadata": {},
   "source": [
    "## Data observation"
   ]
  },
  {
   "cell_type": "code",
   "execution_count": 111,
   "metadata": {},
   "outputs": [],
   "source": [
    "rcParams['figure.figsize'] = 10, 6"
   ]
  },
  {
   "cell_type": "code",
   "execution_count": 112,
   "metadata": {},
   "outputs": [
    {
     "data": {
      "text/plain": [
       "array([[ 0.18009231,  0.26227916],\n",
       "       [ 0.30872968,  0.35102022],\n",
       "       [ 0.26462544,  0.23489323],\n",
       "       [ 0.15121454,  0.10478946],\n",
       "       [ 0.06480623,  0.03506114],\n",
       "       [ 0.02221928,  0.00938479],\n",
       "       [ 0.00634837,  0.00209335],\n",
       "       [ 0.0015547 ,  0.00040023]])"
      ]
     },
     "execution_count": 112,
     "metadata": {},
     "output_type": "execute_result"
    }
   ],
   "source": [
    "poisson_pred = np.column_stack([[poisson.pmf(i, df.mean()[j]) for i in range(8)] for j in range(2)])\n",
    "poisson_pred"
   ]
  },
  {
   "cell_type": "code",
   "execution_count": 113,
   "metadata": {},
   "outputs": [
    {
     "data": {
      "image/png": "[encoded data removed]",
      "text/plain": [
       "<matplotlib.figure.Figure at 0xadf6278>"
      ]
     },
     "metadata": {},
     "output_type": "display_data"
    }
   ],
   "source": [
    "# construct Poisson for each goals value\n",
    "poisson_pred = np.column_stack([[poisson.pmf(i, df.mean()[j]) for i in range(8)] for j in range(0, 2)])\n",
    "\n",
    "# plot histogram of actual goals\n",
    "plt.hist(df[['FTHG', 'FTAG']].values, range(9), \n",
    "         alpha=0.7, label=['Дом', 'Выезд'], normed=True, color=[\"green\", \"orange\"])\n",
    "\n",
    "# add lines for the Poisson distributions\n",
    "pois1, = plt.plot([i-0.5 for i in range(1, 9)], poisson_pred[:,0],\n",
    "                  linestyle='-', marker='o',label=\"Дом\", color = 'darkgreen')\n",
    "pois2, = plt.plot([i-0.5 for i in range(1, 9)], poisson_pred[:,1],\n",
    "                  linestyle='-', marker='o',label=\"Выезд\", color = 'darkorange')\n",
    "\n",
    "leg=plt.legend(loc='upper right', fontsize=13, ncol=2)\n",
    "leg.set_title(\"Пуассон           Данные        \", prop = {'size':'14', 'weight':'bold'})\n",
    "\n",
    "plt.xticks([i-0.5 for i in range(1, 9)],[i for i in range(8)])\n",
    "plt.xlabel(\"Голы\", size=13)\n",
    "plt.ylabel(\"Процент матчей\", size=13)\n",
    "plt.title(\"Число голов за матч\\nБундеслига 2018/2019\", size=14, fontweight='bold')\n",
    "plt.ylim([-0.004, 0.4])\n",
    "plt.tight_layout()\n",
    "plt.show()"
   ]
  },
  {
   "cell_type": "code",
   "execution_count": 114,
   "metadata": {},
   "outputs": [
    {
     "data": {
      "image/png": "[encoded data removed]",
      "text/plain": [
       "<matplotlib.figure.Figure at 0xaaf0a58>"
      ]
     },
     "metadata": {},
     "output_type": "display_data"
    }
   ],
   "source": [
    "skellam_pred = [skellam.pmf(i,  df.mean()[0],  df.mean()[1]) for i in range(-5,7)]\n",
    "\n",
    "plt.hist(df[['FTHG']].values - df[['FTAG']].values, range(-5,7), \n",
    "         alpha=0.7, label='Данные',normed=True)\n",
    "plt.plot([i+0.5 for i in range(-5,7)], skellam_pred,\n",
    "                  linestyle='-', marker='o',label=\"Скеллам\", color = '#CD5C5C')\n",
    "plt.legend(loc='upper right', fontsize=13)\n",
    "plt.xticks([i+0.5 for i in range(-5,7)],[i for i in range(-5,7)])\n",
    "plt.xlabel(\"Домашние голы - выездные голы\",size=13)\n",
    "plt.ylabel(\"Процент матчей\",size=13)\n",
    "plt.title(\"Разница забитых мячей\",size=14,fontweight='bold')\n",
    "plt.ylim([-0.004, 0.26])\n",
    "plt.tight_layout()\n",
    "plt.show()"
   ]
  },
  {
   "cell_type": "code",
   "execution_count": 115,
   "metadata": {},
   "outputs": [
    {
     "data": {
      "text/plain": [
       "0.23610387176347772"
      ]
     },
     "execution_count": 115,
     "metadata": {},
     "output_type": "execute_result"
    }
   ],
   "source": [
    "# probability of draw\n",
    "skellam.pmf(0.0,  df.mean()[0],  df.mean()[1])"
   ]
  },
  {
   "cell_type": "code",
   "execution_count": 116,
   "metadata": {},
   "outputs": [
    {
     "data": {
      "text/plain": [
       "0.21701452383390987"
      ]
     },
     "execution_count": 116,
     "metadata": {},
     "output_type": "execute_result"
    }
   ],
   "source": [
    "# probability of winning with one goal of the home team\n",
    "skellam.pmf(1,  df.mean()[0],  df.mean()[1])"
   ]
  },
  {
   "cell_type": "code",
   "execution_count": 117,
   "metadata": {},
   "outputs": [
    {
     "data": {
      "text/plain": [
       "0.16942361948436824"
      ]
     },
     "execution_count": 117,
     "metadata": {},
     "output_type": "execute_result"
    }
   ],
   "source": [
    "# probability of winning with one goal of the away team\n",
    "skellam.pmf(-1,  df.mean()[0],  df.mean()[1])"
   ]
  },
  {
   "cell_type": "markdown",
   "metadata": {},
   "source": [
    "## Training model"
   ]
  },
  {
   "cell_type": "code",
   "execution_count": 118,
   "metadata": {},
   "outputs": [],
   "source": [
    "import statsmodels.api as sm\n",
    "import statsmodels.formula.api as smf"
   ]
  },
  {
   "cell_type": "markdown",
   "metadata": {},
   "source": [
    "### Full time goals"
   ]
  },
  {
   "cell_type": "code",
   "execution_count": 119,
   "metadata": {},
   "outputs": [
    {
     "data": {
      "text/html": [
       "<table class=\"simpletable\">\n",
       "<caption>Generalized Linear Model Regression Results</caption>\n",
       "<tr>\n",
       "  <th>Dep. Variable:</th>        <td>goals</td>      <th>  No. Observations:  </th>  <td>   266</td>  \n",
       "</tr>\n",
       "<tr>\n",
       "  <th>Model:</th>                 <td>GLM</td>       <th>  Df Residuals:      </th>  <td>   230</td>  \n",
       "</tr>\n",
       "<tr>\n",
       "  <th>Model Family:</th>        <td>Poisson</td>     <th>  Df Model:          </th>  <td>    35</td>  \n",
       "</tr>\n",
       "<tr>\n",
       "  <th>Link Function:</th>         <td>log</td>       <th>  Scale:             </th> <td>  1.0000</td> \n",
       "</tr>\n",
       "<tr>\n",
       "  <th>Method:</th>               <td>IRLS</td>       <th>  Log-Likelihood:    </th> <td> -381.52</td> \n",
       "</tr>\n",
       "<tr>\n",
       "  <th>Date:</th>           <td>Tue, 18 Dec 2018</td> <th>  Deviance:          </th> <td>  255.52</td> \n",
       "</tr>\n",
       "<tr>\n",
       "  <th>Time:</th>               <td>17:10:16</td>     <th>  Pearson chi2:      </th>  <td>  226.</td>  \n",
       "</tr>\n",
       "<tr>\n",
       "  <th>No. Iterations:</th>         <td>5</td>        <th>  Covariance Type:   </th> <td>nonrobust</td>\n",
       "</tr>\n",
       "</table>\n",
       "<table class=\"simpletable\">\n",
       "<tr>\n",
       "                 <td></td>                   <th>coef</th>     <th>std err</th>      <th>z</th>      <th>P>|z|</th>  <th>[0.025</th>    <th>0.975]</th>  \n",
       "</tr>\n",
       "<tr>\n",
       "  <th>Intercept</th>                      <td>    0.2499</td> <td>    0.309</td> <td>    0.808</td> <td> 0.419</td> <td>   -0.356</td> <td>    0.856</td>\n",
       "</tr>\n",
       "<tr>\n",
       "  <th>team[T.Bayern Munich]</th>          <td>    0.3631</td> <td>    0.283</td> <td>    1.283</td> <td> 0.199</td> <td>   -0.191</td> <td>    0.917</td>\n",
       "</tr>\n",
       "<tr>\n",
       "  <th>team[T.Dortmund]</th>               <td>    0.6468</td> <td>    0.271</td> <td>    2.389</td> <td> 0.017</td> <td>    0.116</td> <td>    1.177</td>\n",
       "</tr>\n",
       "<tr>\n",
       "  <th>team[T.Ein Frankfurt]</th>          <td>    0.4023</td> <td>    0.287</td> <td>    1.402</td> <td> 0.161</td> <td>   -0.160</td> <td>    0.965</td>\n",
       "</tr>\n",
       "<tr>\n",
       "  <th>team[T.Fortuna Dusseldorf]</th>     <td>   -0.2502</td> <td>    0.334</td> <td>   -0.749</td> <td> 0.454</td> <td>   -0.905</td> <td>    0.405</td>\n",
       "</tr>\n",
       "<tr>\n",
       "  <th>team[T.Freiburg]</th>               <td>   -0.0502</td> <td>    0.319</td> <td>   -0.157</td> <td> 0.875</td> <td>   -0.675</td> <td>    0.575</td>\n",
       "</tr>\n",
       "<tr>\n",
       "  <th>team[T.Hannover]</th>               <td>   -0.2155</td> <td>    0.334</td> <td>   -0.644</td> <td> 0.519</td> <td>   -0.871</td> <td>    0.440</td>\n",
       "</tr>\n",
       "<tr>\n",
       "  <th>team[T.Hertha]</th>                 <td>    0.1134</td> <td>    0.302</td> <td>    0.375</td> <td> 0.708</td> <td>   -0.479</td> <td>    0.706</td>\n",
       "</tr>\n",
       "<tr>\n",
       "  <th>team[T.Hoffenheim]</th>             <td>    0.3469</td> <td>    0.287</td> <td>    1.210</td> <td> 0.226</td> <td>   -0.215</td> <td>    0.909</td>\n",
       "</tr>\n",
       "<tr>\n",
       "  <th>team[T.Leverkusen]</th>             <td>    0.0001</td> <td>    0.315</td> <td>    0.000</td> <td> 1.000</td> <td>   -0.617</td> <td>    0.617</td>\n",
       "</tr>\n",
       "<tr>\n",
       "  <th>team[T.M'gladbach]</th>             <td>    0.4391</td> <td>    0.282</td> <td>    1.560</td> <td> 0.119</td> <td>   -0.113</td> <td>    0.991</td>\n",
       "</tr>\n",
       "<tr>\n",
       "  <th>team[T.Mainz]</th>                  <td>   -0.4963</td> <td>    0.355</td> <td>   -1.397</td> <td> 0.162</td> <td>   -1.193</td> <td>    0.200</td>\n",
       "</tr>\n",
       "<tr>\n",
       "  <th>team[T.Nurnberg]</th>               <td>   -0.4184</td> <td>    0.348</td> <td>   -1.204</td> <td> 0.229</td> <td>   -1.100</td> <td>    0.263</td>\n",
       "</tr>\n",
       "<tr>\n",
       "  <th>team[T.RB Leipzig]</th>             <td>    0.1286</td> <td>    0.301</td> <td>    0.427</td> <td> 0.669</td> <td>   -0.462</td> <td>    0.719</td>\n",
       "</tr>\n",
       "<tr>\n",
       "  <th>team[T.Schalke 04]</th>             <td>   -0.2594</td> <td>    0.334</td> <td>   -0.777</td> <td> 0.437</td> <td>   -0.914</td> <td>    0.395</td>\n",
       "</tr>\n",
       "<tr>\n",
       "  <th>team[T.Stuttgart]</th>              <td>   -0.6455</td> <td>    0.374</td> <td>   -1.728</td> <td> 0.084</td> <td>   -1.378</td> <td>    0.087</td>\n",
       "</tr>\n",
       "<tr>\n",
       "  <th>team[T.Werder Bremen]</th>          <td>    0.1238</td> <td>    0.299</td> <td>    0.415</td> <td> 0.678</td> <td>   -0.461</td> <td>    0.709</td>\n",
       "</tr>\n",
       "<tr>\n",
       "  <th>team[T.Wolfsburg]</th>              <td>    0.0636</td> <td>    0.306</td> <td>    0.208</td> <td> 0.835</td> <td>   -0.536</td> <td>    0.663</td>\n",
       "</tr>\n",
       "<tr>\n",
       "  <th>opponent[T.Bayern Munich]</th>      <td>   -0.2301</td> <td>    0.314</td> <td>   -0.732</td> <td> 0.464</td> <td>   -0.846</td> <td>    0.386</td>\n",
       "</tr>\n",
       "<tr>\n",
       "  <th>opponent[T.Dortmund]</th>           <td>   -0.3727</td> <td>    0.332</td> <td>   -1.124</td> <td> 0.261</td> <td>   -1.023</td> <td>    0.277</td>\n",
       "</tr>\n",
       "<tr>\n",
       "  <th>opponent[T.Ein Frankfurt]</th>      <td>   -0.2806</td> <td>    0.320</td> <td>   -0.877</td> <td> 0.380</td> <td>   -0.908</td> <td>    0.346</td>\n",
       "</tr>\n",
       "<tr>\n",
       "  <th>opponent[T.Fortuna Dusseldorf]</th> <td>    0.3132</td> <td>    0.273</td> <td>    1.148</td> <td> 0.251</td> <td>   -0.221</td> <td>    0.848</td>\n",
       "</tr>\n",
       "<tr>\n",
       "  <th>opponent[T.Freiburg]</th>           <td>   -0.0441</td> <td>    0.291</td> <td>   -0.152</td> <td> 0.879</td> <td>   -0.614</td> <td>    0.526</td>\n",
       "</tr>\n",
       "<tr>\n",
       "  <th>opponent[T.Hannover]</th>           <td>    0.2862</td> <td>    0.270</td> <td>    1.059</td> <td> 0.290</td> <td>   -0.244</td> <td>    0.816</td>\n",
       "</tr>\n",
       "<tr>\n",
       "  <th>opponent[T.Hertha]</th>             <td>   -0.0764</td> <td>    0.296</td> <td>   -0.258</td> <td> 0.796</td> <td>   -0.657</td> <td>    0.504</td>\n",
       "</tr>\n",
       "<tr>\n",
       "  <th>opponent[T.Hoffenheim]</th>         <td>   -0.1092</td> <td>    0.301</td> <td>   -0.363</td> <td> 0.717</td> <td>   -0.700</td> <td>    0.481</td>\n",
       "</tr>\n",
       "<tr>\n",
       "  <th>opponent[T.Leverkusen]</th>         <td>    0.1215</td> <td>    0.288</td> <td>    0.422</td> <td> 0.673</td> <td>   -0.442</td> <td>    0.685</td>\n",
       "</tr>\n",
       "<tr>\n",
       "  <th>opponent[T.M'gladbach]</th>         <td>   -0.3672</td> <td>    0.325</td> <td>   -1.128</td> <td> 0.259</td> <td>   -1.005</td> <td>    0.271</td>\n",
       "</tr>\n",
       "<tr>\n",
       "  <th>opponent[T.Mainz]</th>              <td>   -0.3392</td> <td>    0.332</td> <td>   -1.022</td> <td> 0.307</td> <td>   -0.990</td> <td>    0.311</td>\n",
       "</tr>\n",
       "<tr>\n",
       "  <th>opponent[T.Nurnberg]</th>           <td>    0.3755</td> <td>    0.267</td> <td>    1.405</td> <td> 0.160</td> <td>   -0.148</td> <td>    0.899</td>\n",
       "</tr>\n",
       "<tr>\n",
       "  <th>opponent[T.RB Leipzig]</th>         <td>   -0.5588</td> <td>    0.347</td> <td>   -1.610</td> <td> 0.107</td> <td>   -1.239</td> <td>    0.121</td>\n",
       "</tr>\n",
       "<tr>\n",
       "  <th>opponent[T.Schalke 04]</th>         <td>   -0.1938</td> <td>    0.301</td> <td>   -0.644</td> <td> 0.519</td> <td>   -0.783</td> <td>    0.396</td>\n",
       "</tr>\n",
       "<tr>\n",
       "  <th>opponent[T.Stuttgart]</th>          <td>    0.1854</td> <td>    0.275</td> <td>    0.674</td> <td> 0.500</td> <td>   -0.354</td> <td>    0.724</td>\n",
       "</tr>\n",
       "<tr>\n",
       "  <th>opponent[T.Werder Bremen]</th>      <td>    0.0879</td> <td>    0.288</td> <td>    0.305</td> <td> 0.760</td> <td>   -0.477</td> <td>    0.653</td>\n",
       "</tr>\n",
       "<tr>\n",
       "  <th>opponent[T.Wolfsburg]</th>          <td>   -0.1824</td> <td>    0.304</td> <td>   -0.601</td> <td> 0.548</td> <td>   -0.778</td> <td>    0.413</td>\n",
       "</tr>\n",
       "<tr>\n",
       "  <th>home</th>                           <td>    0.2600</td> <td>    0.101</td> <td>    2.569</td> <td> 0.010</td> <td>    0.062</td> <td>    0.458</td>\n",
       "</tr>\n",
       "</table>"
      ],
      "text/plain": [
       "<class 'statsmodels.iolib.summary.Summary'>\n",
       "\"\"\"\n",
       "                 Generalized Linear Model Regression Results                  \n",
       "==============================================================================\n",
       "Dep. Variable:                  goals   No. Observations:                  266\n",
       "Model:                            GLM   Df Residuals:                      230\n",
       "Model Family:                 Poisson   Df Model:                           35\n",
       "Link Function:                    log   Scale:                          1.0000\n",
       "Method:                          IRLS   Log-Likelihood:                -381.52\n",
       "Date:                Tue, 18 Dec 2018   Deviance:                       255.52\n",
       "Time:                        17:10:16   Pearson chi2:                     226.\n",
       "No. Iterations:                     5   Covariance Type:             nonrobust\n",
       "==================================================================================================\n",
       "                                     coef    std err          z      P>|z|      [0.025      0.975]\n",
       "--------------------------------------------------------------------------------------------------\n",
       "Intercept                          0.2499      0.309      0.808      0.419      -0.356       0.856\n",
       "team[T.Bayern Munich]              0.3631      0.283      1.283      0.199      -0.191       0.917\n",
       "team[T.Dortmund]                   0.6468      0.271      2.389      0.017       0.116       1.177\n",
       "team[T.Ein Frankfurt]              0.4023      0.287      1.402      0.161      -0.160       0.965\n",
       "team[T.Fortuna Dusseldorf]        -0.2502      0.334     -0.749      0.454      -0.905       0.405\n",
       "team[T.Freiburg]                  -0.0502      0.319     -0.157      0.875      -0.675       0.575\n",
       "team[T.Hannover]                  -0.2155      0.334     -0.644      0.519      -0.871       0.440\n",
       "team[T.Hertha]                     0.1134      0.302      0.375      0.708      -0.479       0.706\n",
       "team[T.Hoffenheim]                 0.3469      0.287      1.210      0.226      -0.215       0.909\n",
       "team[T.Leverkusen]                 0.0001      0.315      0.000      1.000      -0.617       0.617\n",
       "team[T.M'gladbach]                 0.4391      0.282      1.560      0.119      -0.113       0.991\n",
       "team[T.Mainz]                     -0.4963      0.355     -1.397      0.162      -1.193       0.200\n",
       "team[T.Nurnberg]                  -0.4184      0.348     -1.204      0.229      -1.100       0.263\n",
       "team[T.RB Leipzig]                 0.1286      0.301      0.427      0.669      -0.462       0.719\n",
       "team[T.Schalke 04]                -0.2594      0.334     -0.777      0.437      -0.914       0.395\n",
       "team[T.Stuttgart]                 -0.6455      0.374     -1.728      0.084      -1.378       0.087\n",
       "team[T.Werder Bremen]              0.1238      0.299      0.415      0.678      -0.461       0.709\n",
       "team[T.Wolfsburg]                  0.0636      0.306      0.208      0.835      -0.536       0.663\n",
       "opponent[T.Bayern Munich]         -0.2301      0.314     -0.732      0.464      -0.846       0.386\n",
       "opponent[T.Dortmund]              -0.3727      0.332     -1.124      0.261      -1.023       0.277\n",
       "opponent[T.Ein Frankfurt]         -0.2806      0.320     -0.877      0.380      -0.908       0.346\n",
       "opponent[T.Fortuna Dusseldorf]     0.3132      0.273      1.148      0.251      -0.221       0.848\n",
       "opponent[T.Freiburg]              -0.0441      0.291     -0.152      0.879      -0.614       0.526\n",
       "opponent[T.Hannover]               0.2862      0.270      1.059      0.290      -0.244       0.816\n",
       "opponent[T.Hertha]                -0.0764      0.296     -0.258      0.796      -0.657       0.504\n",
       "opponent[T.Hoffenheim]            -0.1092      0.301     -0.363      0.717      -0.700       0.481\n",
       "opponent[T.Leverkusen]             0.1215      0.288      0.422      0.673      -0.442       0.685\n",
       "opponent[T.M'gladbach]            -0.3672      0.325     -1.128      0.259      -1.005       0.271\n",
       "opponent[T.Mainz]                 -0.3392      0.332     -1.022      0.307      -0.990       0.311\n",
       "opponent[T.Nurnberg]               0.3755      0.267      1.405      0.160      -0.148       0.899\n",
       "opponent[T.RB Leipzig]            -0.5588      0.347     -1.610      0.107      -1.239       0.121\n",
       "opponent[T.Schalke 04]            -0.1938      0.301     -0.644      0.519      -0.783       0.396\n",
       "opponent[T.Stuttgart]              0.1854      0.275      0.674      0.500      -0.354       0.724\n",
       "opponent[T.Werder Bremen]          0.0879      0.288      0.305      0.760      -0.477       0.653\n",
       "opponent[T.Wolfsburg]             -0.1824      0.304     -0.601      0.548      -0.778       0.413\n",
       "home                               0.2600      0.101      2.569      0.010       0.062       0.458\n",
       "==================================================================================================\n",
       "\"\"\""
      ]
     },
     "execution_count": 119,
     "metadata": {},
     "output_type": "execute_result"
    }
   ],
   "source": [
    "goal_model_data = pd.concat([df[['HomeTeam', 'AwayTeam', 'FTHG']].assign(home=1).rename(\n",
    "            columns={'HomeTeam':'team', 'AwayTeam':'opponent', 'FTHG':'goals'}),\n",
    "            df[['AwayTeam','HomeTeam','FTAG']].assign(home=0).rename(\n",
    "            columns={'AwayTeam':'team', 'HomeTeam':'opponent', 'FTAG':'goals'})])\n",
    "\n",
    "poisson_model = smf.glm(formula=\"goals ~ home + team + opponent\", data=goal_model_data, \n",
    "                        family=sm.families.Poisson()).fit()\n",
    "poisson_model.summary()"
   ]
  },
  {
   "cell_type": "code",
   "execution_count": 120,
   "metadata": {},
   "outputs": [
    {
     "name": "stdout",
     "output_type": "stream",
     "text": [
      "Average amount of goals per match for Ein Frankfurt at home:\t 2.8111625824749678\n"
     ]
    }
   ],
   "source": [
    "home_goals_avg = poisson_model.predict(pd.DataFrame(data={'team': 'Ein Frankfurt', 'opponent': 'Leverkusen',\n",
    "                                       'home':1},index=[1]))\n",
    "print(f\"Average amount of goals per match for Ein Frankfurt at home:\\t {home_goals_avg[1]}\")"
   ]
  },
  {
   "cell_type": "code",
   "execution_count": 121,
   "metadata": {},
   "outputs": [
    {
     "name": "stdout",
     "output_type": "stream",
     "text": [
      "Average amount of goals per match for Leverkusen away:\t 0.9698525312836197\n"
     ]
    }
   ],
   "source": [
    "away_goals_avg = poisson_model.predict(pd.DataFrame(data={'team': 'Leverkusen', 'opponent': 'Ein Frankfurt',\n",
    "                                       'home':0},index=[1]))\n",
    "print(f\"Average amount of goals per match for Leverkusen away:\\t {away_goals_avg[1]}\")"
   ]
  },
  {
   "cell_type": "code",
   "execution_count": 122,
   "metadata": {},
   "outputs": [
    {
     "data": {
      "text/plain": [
       "array([[ 0.02279954,  0.02211219,  0.01072278,  0.00346651],\n",
       "       [ 0.0640932 ,  0.06216095,  0.03014348,  0.00974491],\n",
       "       [ 0.0900882 ,  0.08737227,  0.04236911,  0.01369726],\n",
       "       [ 0.08441753,  0.08187256,  0.03970215,  0.01283508]])"
      ]
     },
     "execution_count": 122,
     "metadata": {},
     "output_type": "execute_result"
    }
   ],
   "source": [
    "def simulate_match(foot_model, homeTeam, awayTeam, max_goals=10):\n",
    "    home_goals_avg = foot_model.predict(pd.DataFrame(data={'team': homeTeam, \n",
    "                                                            'opponent': awayTeam,'home':1},\n",
    "                                                      index=[1])).values[0]\n",
    "    away_goals_avg = foot_model.predict(pd.DataFrame(data={'team': awayTeam, \n",
    "                                                            'opponent': homeTeam,'home':0},\n",
    "                                                      index=[1])).values[0]\n",
    "    team_pred = [[poisson.pmf(i, team_avg) for i in range(0, max_goals+1)] for team_avg in [home_goals_avg, away_goals_avg]]\n",
    "\n",
    "    return(np.outer(np.array(team_pred[0]), np.array(team_pred[1])))\n",
    "    \n",
    "simulate_match(poisson_model, 'Ein Frankfurt', 'Leverkusen', max_goals=3)"
   ]
  },
  {
   "cell_type": "code",
   "execution_count": 123,
   "metadata": {},
   "outputs": [
    {
     "data": {
      "text/plain": [
       "0.75492765204289025"
      ]
     },
     "execution_count": 123,
     "metadata": {},
     "output_type": "execute_result"
    }
   ],
   "source": [
    "ley_bor = simulate_match(poisson_model, \"Ein Frankfurt\", \"Leverkusen\", max_goals=10)\n",
    "# Ein Frankfurt win\n",
    "np.sum(np.tril(ley_bor, -1))"
   ]
  },
  {
   "cell_type": "code",
   "execution_count": 124,
   "metadata": {},
   "outputs": [
    {
     "data": {
      "text/plain": [
       "0.14260941628585933"
      ]
     },
     "execution_count": 124,
     "metadata": {},
     "output_type": "execute_result"
    }
   ],
   "source": [
    "# draw\n",
    "np.sum(np.diag(ley_bor))"
   ]
  },
  {
   "cell_type": "code",
   "execution_count": 125,
   "metadata": {},
   "outputs": [
    {
     "data": {
      "text/plain": [
       "0.10229357185759931"
      ]
     },
     "execution_count": 125,
     "metadata": {},
     "output_type": "execute_result"
    }
   ],
   "source": [
    "# Leverkusen win\n",
    "np.sum(np.triu(ley_bor, 1))"
   ]
  },
  {
   "cell_type": "code",
   "execution_count": 126,
   "metadata": {},
   "outputs": [
    {
     "name": "stdout",
     "output_type": "stream",
     "text": [
      "Ein Frankfurt's 0 goals probability:  0.0601350393505\n",
      "Ein Frankfurt's 1 goals probability:  0.169049372518\n",
      "Ein Frankfurt's 2 goals probability:  0.237612635307\n",
      "Ein Frankfurt's 3 goals probability:  0.222655916499\n",
      "Ein Frankfurt's 4 goals probability:  0.156480495307\n"
     ]
    }
   ],
   "source": [
    "for i in range(5):\n",
    "    print(f\"Ein Frankfurt's {i} goals probability: \", sum(ley_bor[i]))"
   ]
  },
  {
   "cell_type": "code",
   "execution_count": 127,
   "metadata": {},
   "outputs": [
    {
     "name": "stdout",
     "output_type": "stream",
     "text": [
      "Leverkusen's 0 goals probability:  0.379074737009\n",
      "Leverkusen's 1 goals probability:  0.367646593234\n",
      "Leverkusen's 2 goals probability:  0.178281489533\n",
      "Leverkusen's 3 goals probability:  0.0576355846348\n",
      "Leverkusen's 4 goals probability:  0.0139745044125\n"
     ]
    }
   ],
   "source": [
    "for i in range(5):\n",
    "    print(f\"Leverkusen's {i} goals probability: \", sum(ley_bor.T[i]))"
   ]
  },
  {
   "cell_type": "markdown",
   "metadata": {},
   "source": [
    "### Goals per halves"
   ]
  },
  {
   "cell_type": "markdown",
   "metadata": {},
   "source": [
    "#### First half"
   ]
  },
  {
   "cell_type": "code",
   "execution_count": 128,
   "metadata": {},
   "outputs": [
    {
     "data": {
      "text/html": [
       "<table class=\"simpletable\">\n",
       "<caption>Generalized Linear Model Regression Results</caption>\n",
       "<tr>\n",
       "  <th>Dep. Variable:</th>        <td>goals</td>      <th>  No. Observations:  </th>  <td>   266</td>  \n",
       "</tr>\n",
       "<tr>\n",
       "  <th>Model:</th>                 <td>GLM</td>       <th>  Df Residuals:      </th>  <td>   230</td>  \n",
       "</tr>\n",
       "<tr>\n",
       "  <th>Model Family:</th>        <td>Poisson</td>     <th>  Df Model:          </th>  <td>    35</td>  \n",
       "</tr>\n",
       "<tr>\n",
       "  <th>Link Function:</th>         <td>log</td>       <th>  Scale:             </th> <td>  1.0000</td> \n",
       "</tr>\n",
       "<tr>\n",
       "  <th>Method:</th>               <td>IRLS</td>       <th>  Log-Likelihood:    </th> <td> -240.05</td> \n",
       "</tr>\n",
       "<tr>\n",
       "  <th>Date:</th>           <td>Tue, 18 Dec 2018</td> <th>  Deviance:          </th> <td>  230.92</td> \n",
       "</tr>\n",
       "<tr>\n",
       "  <th>Time:</th>               <td>17:10:20</td>     <th>  Pearson chi2:      </th>  <td>  230.</td>  \n",
       "</tr>\n",
       "<tr>\n",
       "  <th>No. Iterations:</th>         <td>5</td>        <th>  Covariance Type:   </th> <td>nonrobust</td>\n",
       "</tr>\n",
       "</table>\n",
       "<table class=\"simpletable\">\n",
       "<tr>\n",
       "                 <td></td>                   <th>coef</th>     <th>std err</th>      <th>z</th>      <th>P>|z|</th>  <th>[0.025</th>    <th>0.975]</th>  \n",
       "</tr>\n",
       "<tr>\n",
       "  <th>Intercept</th>                      <td>   -1.3155</td> <td>    0.586</td> <td>   -2.245</td> <td> 0.025</td> <td>   -2.464</td> <td>   -0.167</td>\n",
       "</tr>\n",
       "<tr>\n",
       "  <th>team[T.Bayern Munich]</th>          <td>    0.6191</td> <td>    0.441</td> <td>    1.404</td> <td> 0.160</td> <td>   -0.245</td> <td>    1.483</td>\n",
       "</tr>\n",
       "<tr>\n",
       "  <th>team[T.Dortmund]</th>               <td>    0.6319</td> <td>    0.441</td> <td>    1.432</td> <td> 0.152</td> <td>   -0.233</td> <td>    1.497</td>\n",
       "</tr>\n",
       "<tr>\n",
       "  <th>team[T.Ein Frankfurt]</th>          <td>    0.3456</td> <td>    0.468</td> <td>    0.739</td> <td> 0.460</td> <td>   -0.571</td> <td>    1.263</td>\n",
       "</tr>\n",
       "<tr>\n",
       "  <th>team[T.Fortuna Dusseldorf]</th>     <td>   -0.6434</td> <td>    0.615</td> <td>   -1.046</td> <td> 0.296</td> <td>   -1.849</td> <td>    0.563</td>\n",
       "</tr>\n",
       "<tr>\n",
       "  <th>team[T.Freiburg]</th>               <td>    0.2066</td> <td>    0.490</td> <td>    0.422</td> <td> 0.673</td> <td>   -0.754</td> <td>    1.167</td>\n",
       "</tr>\n",
       "<tr>\n",
       "  <th>team[T.Hannover]</th>               <td>   -0.0804</td> <td>    0.521</td> <td>   -0.154</td> <td> 0.877</td> <td>   -1.102</td> <td>    0.941</td>\n",
       "</tr>\n",
       "<tr>\n",
       "  <th>team[T.Hertha]</th>                 <td>    0.4043</td> <td>    0.457</td> <td>    0.884</td> <td> 0.377</td> <td>   -0.492</td> <td>    1.301</td>\n",
       "</tr>\n",
       "<tr>\n",
       "  <th>team[T.Hoffenheim]</th>             <td>   -0.0999</td> <td>    0.521</td> <td>   -0.192</td> <td> 0.848</td> <td>   -1.120</td> <td>    0.920</td>\n",
       "</tr>\n",
       "<tr>\n",
       "  <th>team[T.Leverkusen]</th>             <td>    0.2732</td> <td>    0.477</td> <td>    0.572</td> <td> 0.567</td> <td>   -0.662</td> <td>    1.209</td>\n",
       "</tr>\n",
       "<tr>\n",
       "  <th>team[T.M'gladbach]</th>             <td>    0.3046</td> <td>    0.478</td> <td>    0.637</td> <td> 0.524</td> <td>   -0.633</td> <td>    1.242</td>\n",
       "</tr>\n",
       "<tr>\n",
       "  <th>team[T.Mainz]</th>                  <td>   -0.6906</td> <td>    0.616</td> <td>   -1.122</td> <td> 0.262</td> <td>   -1.897</td> <td>    0.516</td>\n",
       "</tr>\n",
       "<tr>\n",
       "  <th>team[T.Nurnberg]</th>               <td>   -0.9220</td> <td>    0.680</td> <td>   -1.355</td> <td> 0.175</td> <td>   -2.255</td> <td>    0.411</td>\n",
       "</tr>\n",
       "<tr>\n",
       "  <th>team[T.RB Leipzig]</th>             <td>    0.4701</td> <td>    0.461</td> <td>    1.020</td> <td> 0.308</td> <td>   -0.433</td> <td>    1.373</td>\n",
       "</tr>\n",
       "<tr>\n",
       "  <th>team[T.Schalke 04]</th>             <td>   -0.9715</td> <td>    0.679</td> <td>   -1.430</td> <td> 0.153</td> <td>   -2.303</td> <td>    0.360</td>\n",
       "</tr>\n",
       "<tr>\n",
       "  <th>team[T.Stuttgart]</th>              <td>   -0.9351</td> <td>    0.679</td> <td>   -1.378</td> <td> 0.168</td> <td>   -2.266</td> <td>    0.395</td>\n",
       "</tr>\n",
       "<tr>\n",
       "  <th>team[T.Werder Bremen]</th>          <td>    0.3443</td> <td>    0.470</td> <td>    0.733</td> <td> 0.463</td> <td>   -0.576</td> <td>    1.265</td>\n",
       "</tr>\n",
       "<tr>\n",
       "  <th>team[T.Wolfsburg]</th>              <td>   -0.1265</td> <td>    0.519</td> <td>   -0.244</td> <td> 0.807</td> <td>   -1.143</td> <td>    0.891</td>\n",
       "</tr>\n",
       "<tr>\n",
       "  <th>opponent[T.Bayern Munich]</th>      <td>    0.4276</td> <td>    0.590</td> <td>    0.725</td> <td> 0.468</td> <td>   -0.728</td> <td>    1.583</td>\n",
       "</tr>\n",
       "<tr>\n",
       "  <th>opponent[T.Dortmund]</th>           <td>    0.5426</td> <td>    0.574</td> <td>    0.945</td> <td> 0.345</td> <td>   -0.583</td> <td>    1.668</td>\n",
       "</tr>\n",
       "<tr>\n",
       "  <th>opponent[T.Ein Frankfurt]</th>      <td>   -0.1336</td> <td>    0.675</td> <td>   -0.198</td> <td> 0.843</td> <td>   -1.457</td> <td>    1.189</td>\n",
       "</tr>\n",
       "<tr>\n",
       "  <th>opponent[T.Fortuna Dusseldorf]</th> <td>    0.4652</td> <td>    0.573</td> <td>    0.811</td> <td> 0.417</td> <td>   -0.659</td> <td>    1.589</td>\n",
       "</tr>\n",
       "<tr>\n",
       "  <th>opponent[T.Freiburg]</th>           <td>    0.5403</td> <td>    0.561</td> <td>    0.964</td> <td> 0.335</td> <td>   -0.559</td> <td>    1.639</td>\n",
       "</tr>\n",
       "<tr>\n",
       "  <th>opponent[T.Hannover]</th>           <td>    0.8373</td> <td>    0.535</td> <td>    1.565</td> <td> 0.118</td> <td>   -0.211</td> <td>    1.886</td>\n",
       "</tr>\n",
       "<tr>\n",
       "  <th>opponent[T.Hertha]</th>             <td>    0.5175</td> <td>    0.572</td> <td>    0.905</td> <td> 0.365</td> <td>   -0.603</td> <td>    1.638</td>\n",
       "</tr>\n",
       "<tr>\n",
       "  <th>opponent[T.Hoffenheim]</th>         <td>    0.5726</td> <td>    0.561</td> <td>    1.021</td> <td> 0.307</td> <td>   -0.527</td> <td>    1.672</td>\n",
       "</tr>\n",
       "<tr>\n",
       "  <th>opponent[T.Leverkusen]</th>         <td>    0.4031</td> <td>    0.588</td> <td>    0.686</td> <td> 0.493</td> <td>   -0.749</td> <td>    1.555</td>\n",
       "</tr>\n",
       "<tr>\n",
       "  <th>opponent[T.M'gladbach]</th>         <td>    0.4496</td> <td>    0.574</td> <td>    0.783</td> <td> 0.434</td> <td>   -0.676</td> <td>    1.575</td>\n",
       "</tr>\n",
       "<tr>\n",
       "  <th>opponent[T.Mainz]</th>              <td>   -0.1102</td> <td>    0.674</td> <td>   -0.163</td> <td> 0.870</td> <td>   -1.432</td> <td>    1.212</td>\n",
       "</tr>\n",
       "<tr>\n",
       "  <th>opponent[T.Nurnberg]</th>           <td>    1.0564</td> <td>    0.520</td> <td>    2.033</td> <td> 0.042</td> <td>    0.038</td> <td>    2.075</td>\n",
       "</tr>\n",
       "<tr>\n",
       "  <th>opponent[T.RB Leipzig]</th>         <td>    0.4401</td> <td>    0.591</td> <td>    0.745</td> <td> 0.456</td> <td>   -0.718</td> <td>    1.598</td>\n",
       "</tr>\n",
       "<tr>\n",
       "  <th>opponent[T.Schalke 04]</th>         <td>    0.3935</td> <td>    0.573</td> <td>    0.687</td> <td> 0.492</td> <td>   -0.729</td> <td>    1.516</td>\n",
       "</tr>\n",
       "<tr>\n",
       "  <th>opponent[T.Stuttgart]</th>          <td>    0.7009</td> <td>    0.541</td> <td>    1.296</td> <td> 0.195</td> <td>   -0.359</td> <td>    1.761</td>\n",
       "</tr>\n",
       "<tr>\n",
       "  <th>opponent[T.Werder Bremen]</th>      <td>    0.9305</td> <td>    0.536</td> <td>    1.736</td> <td> 0.083</td> <td>   -0.120</td> <td>    1.981</td>\n",
       "</tr>\n",
       "<tr>\n",
       "  <th>opponent[T.Wolfsburg]</th>          <td>    0.5588</td> <td>    0.559</td> <td>    0.999</td> <td> 0.318</td> <td>   -0.537</td> <td>    1.655</td>\n",
       "</tr>\n",
       "<tr>\n",
       "  <th>home</th>                           <td>    0.2677</td> <td>    0.167</td> <td>    1.601</td> <td> 0.109</td> <td>   -0.060</td> <td>    0.596</td>\n",
       "</tr>\n",
       "</table>"
      ],
      "text/plain": [
       "<class 'statsmodels.iolib.summary.Summary'>\n",
       "\"\"\"\n",
       "                 Generalized Linear Model Regression Results                  \n",
       "==============================================================================\n",
       "Dep. Variable:                  goals   No. Observations:                  266\n",
       "Model:                            GLM   Df Residuals:                      230\n",
       "Model Family:                 Poisson   Df Model:                           35\n",
       "Link Function:                    log   Scale:                          1.0000\n",
       "Method:                          IRLS   Log-Likelihood:                -240.05\n",
       "Date:                Tue, 18 Dec 2018   Deviance:                       230.92\n",
       "Time:                        17:10:20   Pearson chi2:                     230.\n",
       "No. Iterations:                     5   Covariance Type:             nonrobust\n",
       "==================================================================================================\n",
       "                                     coef    std err          z      P>|z|      [0.025      0.975]\n",
       "--------------------------------------------------------------------------------------------------\n",
       "Intercept                         -1.3155      0.586     -2.245      0.025      -2.464      -0.167\n",
       "team[T.Bayern Munich]              0.6191      0.441      1.404      0.160      -0.245       1.483\n",
       "team[T.Dortmund]                   0.6319      0.441      1.432      0.152      -0.233       1.497\n",
       "team[T.Ein Frankfurt]              0.3456      0.468      0.739      0.460      -0.571       1.263\n",
       "team[T.Fortuna Dusseldorf]        -0.6434      0.615     -1.046      0.296      -1.849       0.563\n",
       "team[T.Freiburg]                   0.2066      0.490      0.422      0.673      -0.754       1.167\n",
       "team[T.Hannover]                  -0.0804      0.521     -0.154      0.877      -1.102       0.941\n",
       "team[T.Hertha]                     0.4043      0.457      0.884      0.377      -0.492       1.301\n",
       "team[T.Hoffenheim]                -0.0999      0.521     -0.192      0.848      -1.120       0.920\n",
       "team[T.Leverkusen]                 0.2732      0.477      0.572      0.567      -0.662       1.209\n",
       "team[T.M'gladbach]                 0.3046      0.478      0.637      0.524      -0.633       1.242\n",
       "team[T.Mainz]                     -0.6906      0.616     -1.122      0.262      -1.897       0.516\n",
       "team[T.Nurnberg]                  -0.9220      0.680     -1.355      0.175      -2.255       0.411\n",
       "team[T.RB Leipzig]                 0.4701      0.461      1.020      0.308      -0.433       1.373\n",
       "team[T.Schalke 04]                -0.9715      0.679     -1.430      0.153      -2.303       0.360\n",
       "team[T.Stuttgart]                 -0.9351      0.679     -1.378      0.168      -2.266       0.395\n",
       "team[T.Werder Bremen]              0.3443      0.470      0.733      0.463      -0.576       1.265\n",
       "team[T.Wolfsburg]                 -0.1265      0.519     -0.244      0.807      -1.143       0.891\n",
       "opponent[T.Bayern Munich]          0.4276      0.590      0.725      0.468      -0.728       1.583\n",
       "opponent[T.Dortmund]               0.5426      0.574      0.945      0.345      -0.583       1.668\n",
       "opponent[T.Ein Frankfurt]         -0.1336      0.675     -0.198      0.843      -1.457       1.189\n",
       "opponent[T.Fortuna Dusseldorf]     0.4652      0.573      0.811      0.417      -0.659       1.589\n",
       "opponent[T.Freiburg]               0.5403      0.561      0.964      0.335      -0.559       1.639\n",
       "opponent[T.Hannover]               0.8373      0.535      1.565      0.118      -0.211       1.886\n",
       "opponent[T.Hertha]                 0.5175      0.572      0.905      0.365      -0.603       1.638\n",
       "opponent[T.Hoffenheim]             0.5726      0.561      1.021      0.307      -0.527       1.672\n",
       "opponent[T.Leverkusen]             0.4031      0.588      0.686      0.493      -0.749       1.555\n",
       "opponent[T.M'gladbach]             0.4496      0.574      0.783      0.434      -0.676       1.575\n",
       "opponent[T.Mainz]                 -0.1102      0.674     -0.163      0.870      -1.432       1.212\n",
       "opponent[T.Nurnberg]               1.0564      0.520      2.033      0.042       0.038       2.075\n",
       "opponent[T.RB Leipzig]             0.4401      0.591      0.745      0.456      -0.718       1.598\n",
       "opponent[T.Schalke 04]             0.3935      0.573      0.687      0.492      -0.729       1.516\n",
       "opponent[T.Stuttgart]              0.7009      0.541      1.296      0.195      -0.359       1.761\n",
       "opponent[T.Werder Bremen]          0.9305      0.536      1.736      0.083      -0.120       1.981\n",
       "opponent[T.Wolfsburg]              0.5588      0.559      0.999      0.318      -0.537       1.655\n",
       "home                               0.2677      0.167      1.601      0.109      -0.060       0.596\n",
       "==================================================================================================\n",
       "\"\"\""
      ]
     },
     "execution_count": 128,
     "metadata": {},
     "output_type": "execute_result"
    }
   ],
   "source": [
    "goal_model_data = pd.concat([df[['HomeTeam', 'AwayTeam', 'HTHG']].assign(home=1).rename(\n",
    "            columns={'HomeTeam':'team', 'AwayTeam':'opponent', 'HTHG':'goals'}),\n",
    "            df[['AwayTeam','HomeTeam','HTAG']].assign(home=0).rename(\n",
    "            columns={'AwayTeam':'team', 'HomeTeam':'opponent', 'HTAG':'goals'})])\n",
    "\n",
    "poisson_model_half1 = smf.glm(formula=\"goals ~ home + team + opponent\", data=goal_model_data, \n",
    "                        family=sm.families.Poisson()).fit()\n",
    "poisson_model_half1.summary()"
   ]
  },
  {
   "cell_type": "code",
   "execution_count": 142,
   "metadata": {},
   "outputs": [
    {
     "data": {
      "text/plain": [
       "0.42460930645534622"
      ]
     },
     "execution_count": 142,
     "metadata": {},
     "output_type": "execute_result"
    }
   ],
   "source": [
    "ley_bor_half1 = simulate_match(poisson_model_half1, \"Ein Frankfurt\", \"Leverkusen\", max_goals=10)\n",
    "# Ein Frankfurt win\n",
    "np.sum(np.tril(ley_bor_half1, -1))"
   ]
  },
  {
   "cell_type": "code",
   "execution_count": 130,
   "metadata": {},
   "outputs": [
    {
     "data": {
      "text/plain": [
       "0.43467900451128599"
      ]
     },
     "execution_count": 130,
     "metadata": {},
     "output_type": "execute_result"
    }
   ],
   "source": [
    "# draw\n",
    "np.sum(np.diag(ley_bor_half1))"
   ]
  },
  {
   "cell_type": "code",
   "execution_count": 131,
   "metadata": {},
   "outputs": [
    {
     "data": {
      "text/plain": [
       "0.14071168855951033"
      ]
     },
     "execution_count": 131,
     "metadata": {},
     "output_type": "execute_result"
    }
   ],
   "source": [
    "# Leverkusen win\n",
    "np.sum(np.triu(ley_bor_half1, 1))"
   ]
  },
  {
   "cell_type": "markdown",
   "metadata": {},
   "source": [
    "#### Second half"
   ]
  },
  {
   "cell_type": "code",
   "execution_count": 132,
   "metadata": {},
   "outputs": [],
   "source": [
    "df['STHG'] = df['FTHG'] - df['HTHG']\n",
    "df['STAG'] = df['FTAG'] - df['HTAG']"
   ]
  },
  {
   "cell_type": "code",
   "execution_count": 133,
   "metadata": {},
   "outputs": [
    {
     "data": {
      "text/html": [
       "<table class=\"simpletable\">\n",
       "<caption>Generalized Linear Model Regression Results</caption>\n",
       "<tr>\n",
       "  <th>Dep. Variable:</th>        <td>goals</td>      <th>  No. Observations:  </th>  <td>   266</td>  \n",
       "</tr>\n",
       "<tr>\n",
       "  <th>Model:</th>                 <td>GLM</td>       <th>  Df Residuals:      </th>  <td>   230</td>  \n",
       "</tr>\n",
       "<tr>\n",
       "  <th>Model Family:</th>        <td>Poisson</td>     <th>  Df Model:          </th>  <td>    35</td>  \n",
       "</tr>\n",
       "<tr>\n",
       "  <th>Link Function:</th>         <td>log</td>       <th>  Scale:             </th> <td>  1.0000</td> \n",
       "</tr>\n",
       "<tr>\n",
       "  <th>Method:</th>               <td>IRLS</td>       <th>  Log-Likelihood:    </th> <td> -305.10</td> \n",
       "</tr>\n",
       "<tr>\n",
       "  <th>Date:</th>           <td>Tue, 18 Dec 2018</td> <th>  Deviance:          </th> <td>  224.48</td> \n",
       "</tr>\n",
       "<tr>\n",
       "  <th>Time:</th>               <td>17:10:21</td>     <th>  Pearson chi2:      </th>  <td>  195.</td>  \n",
       "</tr>\n",
       "<tr>\n",
       "  <th>No. Iterations:</th>         <td>5</td>        <th>  Covariance Type:   </th> <td>nonrobust</td>\n",
       "</tr>\n",
       "</table>\n",
       "<table class=\"simpletable\">\n",
       "<tr>\n",
       "                 <td></td>                   <th>coef</th>     <th>std err</th>      <th>z</th>      <th>P>|z|</th>  <th>[0.025</th>    <th>0.975]</th>  \n",
       "</tr>\n",
       "<tr>\n",
       "  <th>Intercept</th>                      <td>    0.0122</td> <td>    0.373</td> <td>    0.033</td> <td> 0.974</td> <td>   -0.719</td> <td>    0.743</td>\n",
       "</tr>\n",
       "<tr>\n",
       "  <th>team[T.Bayern Munich]</th>          <td>    0.1832</td> <td>    0.371</td> <td>    0.494</td> <td> 0.622</td> <td>   -0.544</td> <td>    0.911</td>\n",
       "</tr>\n",
       "<tr>\n",
       "  <th>team[T.Dortmund]</th>               <td>    0.6554</td> <td>    0.343</td> <td>    1.911</td> <td> 0.056</td> <td>   -0.017</td> <td>    1.327</td>\n",
       "</tr>\n",
       "<tr>\n",
       "  <th>team[T.Ein Frankfurt]</th>          <td>    0.4367</td> <td>    0.363</td> <td>    1.202</td> <td> 0.229</td> <td>   -0.275</td> <td>    1.149</td>\n",
       "</tr>\n",
       "<tr>\n",
       "  <th>team[T.Fortuna Dusseldorf]</th>     <td>   -0.0739</td> <td>    0.404</td> <td>   -0.183</td> <td> 0.855</td> <td>   -0.865</td> <td>    0.718</td>\n",
       "</tr>\n",
       "<tr>\n",
       "  <th>team[T.Freiburg]</th>               <td>   -0.2360</td> <td>    0.424</td> <td>   -0.557</td> <td> 0.577</td> <td>   -1.066</td> <td>    0.594</td>\n",
       "</tr>\n",
       "<tr>\n",
       "  <th>team[T.Hannover]</th>               <td>   -0.3079</td> <td>    0.437</td> <td>   -0.705</td> <td> 0.481</td> <td>   -1.164</td> <td>    0.549</td>\n",
       "</tr>\n",
       "<tr>\n",
       "  <th>team[T.Hertha]</th>                 <td>   -0.1294</td> <td>    0.410</td> <td>   -0.315</td> <td> 0.753</td> <td>   -0.934</td> <td>    0.675</td>\n",
       "</tr>\n",
       "<tr>\n",
       "  <th>team[T.Hoffenheim]</th>             <td>    0.5360</td> <td>    0.350</td> <td>    1.533</td> <td> 0.125</td> <td>   -0.149</td> <td>    1.221</td>\n",
       "</tr>\n",
       "<tr>\n",
       "  <th>team[T.Leverkusen]</th>             <td>   -0.2138</td> <td>    0.424</td> <td>   -0.505</td> <td> 0.614</td> <td>   -1.044</td> <td>    0.617</td>\n",
       "</tr>\n",
       "<tr>\n",
       "  <th>team[T.M'gladbach]</th>             <td>    0.5031</td> <td>    0.350</td> <td>    1.437</td> <td> 0.151</td> <td>   -0.183</td> <td>    1.189</td>\n",
       "</tr>\n",
       "<tr>\n",
       "  <th>team[T.Mainz]</th>                  <td>   -0.3951</td> <td>    0.437</td> <td>   -0.905</td> <td> 0.366</td> <td>   -1.251</td> <td>    0.461</td>\n",
       "</tr>\n",
       "<tr>\n",
       "  <th>team[T.Nurnberg]</th>               <td>   -0.2222</td> <td>    0.413</td> <td>   -0.538</td> <td> 0.591</td> <td>   -1.032</td> <td>    0.588</td>\n",
       "</tr>\n",
       "<tr>\n",
       "  <th>team[T.RB Leipzig]</th>             <td>   -0.1231</td> <td>    0.403</td> <td>   -0.305</td> <td> 0.760</td> <td>   -0.913</td> <td>    0.667</td>\n",
       "</tr>\n",
       "<tr>\n",
       "  <th>team[T.Schalke 04]</th>             <td>    0.0150</td> <td>    0.395</td> <td>    0.038</td> <td> 0.970</td> <td>   -0.759</td> <td>    0.789</td>\n",
       "</tr>\n",
       "<tr>\n",
       "  <th>team[T.Stuttgart]</th>              <td>   -0.5100</td> <td>    0.451</td> <td>   -1.130</td> <td> 0.258</td> <td>   -1.395</td> <td>    0.375</td>\n",
       "</tr>\n",
       "<tr>\n",
       "  <th>team[T.Werder Bremen]</th>          <td>   -0.0190</td> <td>    0.388</td> <td>   -0.049</td> <td> 0.961</td> <td>   -0.780</td> <td>    0.742</td>\n",
       "</tr>\n",
       "<tr>\n",
       "  <th>team[T.Wolfsburg]</th>              <td>    0.1664</td> <td>    0.380</td> <td>    0.438</td> <td> 0.661</td> <td>   -0.578</td> <td>    0.911</td>\n",
       "</tr>\n",
       "<tr>\n",
       "  <th>opponent[T.Bayern Munich]</th>      <td>   -0.5060</td> <td>    0.382</td> <td>   -1.325</td> <td> 0.185</td> <td>   -1.254</td> <td>    0.242</td>\n",
       "</tr>\n",
       "<tr>\n",
       "  <th>opponent[T.Dortmund]</th>           <td>   -0.8862</td> <td>    0.445</td> <td>   -1.991</td> <td> 0.046</td> <td>   -1.759</td> <td>   -0.014</td>\n",
       "</tr>\n",
       "<tr>\n",
       "  <th>opponent[T.Ein Frankfurt]</th>      <td>   -0.3280</td> <td>    0.364</td> <td>   -0.902</td> <td> 0.367</td> <td>   -1.041</td> <td>    0.385</td>\n",
       "</tr>\n",
       "<tr>\n",
       "  <th>opponent[T.Fortuna Dusseldorf]</th> <td>    0.2770</td> <td>    0.311</td> <td>    0.891</td> <td> 0.373</td> <td>   -0.332</td> <td>    0.886</td>\n",
       "</tr>\n",
       "<tr>\n",
       "  <th>opponent[T.Freiburg]</th>           <td>   -0.2784</td> <td>    0.348</td> <td>   -0.800</td> <td> 0.424</td> <td>   -0.960</td> <td>    0.404</td>\n",
       "</tr>\n",
       "<tr>\n",
       "  <th>opponent[T.Hannover]</th>           <td>    0.0716</td> <td>    0.319</td> <td>    0.224</td> <td> 0.823</td> <td>   -0.554</td> <td>    0.697</td>\n",
       "</tr>\n",
       "<tr>\n",
       "  <th>opponent[T.Hertha]</th>             <td>   -0.3168</td> <td>    0.353</td> <td>   -0.896</td> <td> 0.370</td> <td>   -1.010</td> <td>    0.376</td>\n",
       "</tr>\n",
       "<tr>\n",
       "  <th>opponent[T.Hoffenheim]</th>         <td>   -0.4101</td> <td>    0.372</td> <td>   -1.102</td> <td> 0.270</td> <td>   -1.139</td> <td>    0.319</td>\n",
       "</tr>\n",
       "<tr>\n",
       "  <th>opponent[T.Leverkusen]</th>         <td>    0.0340</td> <td>    0.332</td> <td>    0.103</td> <td> 0.918</td> <td>   -0.616</td> <td>    0.684</td>\n",
       "</tr>\n",
       "<tr>\n",
       "  <th>opponent[T.M'gladbach]</th>         <td>   -0.7928</td> <td>    0.425</td> <td>   -1.866</td> <td> 0.062</td> <td>   -1.625</td> <td>    0.040</td>\n",
       "</tr>\n",
       "<tr>\n",
       "  <th>opponent[T.Mainz]</th>              <td>   -0.4028</td> <td>    0.383</td> <td>   -1.053</td> <td> 0.292</td> <td>   -1.153</td> <td>    0.347</td>\n",
       "</tr>\n",
       "<tr>\n",
       "  <th>opponent[T.Nurnberg]</th>           <td>    0.0722</td> <td>    0.323</td> <td>    0.223</td> <td> 0.823</td> <td>   -0.561</td> <td>    0.706</td>\n",
       "</tr>\n",
       "<tr>\n",
       "  <th>opponent[T.RB Leipzig]</th>         <td>   -1.1230</td> <td>    0.471</td> <td>   -2.384</td> <td> 0.017</td> <td>   -2.046</td> <td>   -0.200</td>\n",
       "</tr>\n",
       "<tr>\n",
       "  <th>opponent[T.Schalke 04]</th>         <td>   -0.4295</td> <td>    0.363</td> <td>   -1.185</td> <td> 0.236</td> <td>   -1.140</td> <td>    0.281</td>\n",
       "</tr>\n",
       "<tr>\n",
       "  <th>opponent[T.Stuttgart]</th>          <td>   -0.0058</td> <td>    0.326</td> <td>   -0.018</td> <td> 0.986</td> <td>   -0.645</td> <td>    0.633</td>\n",
       "</tr>\n",
       "<tr>\n",
       "  <th>opponent[T.Werder Bremen]</th>      <td>   -0.3350</td> <td>    0.363</td> <td>   -0.923</td> <td> 0.356</td> <td>   -1.046</td> <td>    0.376</td>\n",
       "</tr>\n",
       "<tr>\n",
       "  <th>opponent[T.Wolfsburg]</th>          <td>   -0.5283</td> <td>    0.380</td> <td>   -1.390</td> <td> 0.164</td> <td>   -1.273</td> <td>    0.217</td>\n",
       "</tr>\n",
       "<tr>\n",
       "  <th>home</th>                           <td>    0.2571</td> <td>    0.128</td> <td>    2.012</td> <td> 0.044</td> <td>    0.007</td> <td>    0.508</td>\n",
       "</tr>\n",
       "</table>"
      ],
      "text/plain": [
       "<class 'statsmodels.iolib.summary.Summary'>\n",
       "\"\"\"\n",
       "                 Generalized Linear Model Regression Results                  \n",
       "==============================================================================\n",
       "Dep. Variable:                  goals   No. Observations:                  266\n",
       "Model:                            GLM   Df Residuals:                      230\n",
       "Model Family:                 Poisson   Df Model:                           35\n",
       "Link Function:                    log   Scale:                          1.0000\n",
       "Method:                          IRLS   Log-Likelihood:                -305.10\n",
       "Date:                Tue, 18 Dec 2018   Deviance:                       224.48\n",
       "Time:                        17:10:21   Pearson chi2:                     195.\n",
       "No. Iterations:                     5   Covariance Type:             nonrobust\n",
       "==================================================================================================\n",
       "                                     coef    std err          z      P>|z|      [0.025      0.975]\n",
       "--------------------------------------------------------------------------------------------------\n",
       "Intercept                          0.0122      0.373      0.033      0.974      -0.719       0.743\n",
       "team[T.Bayern Munich]              0.1832      0.371      0.494      0.622      -0.544       0.911\n",
       "team[T.Dortmund]                   0.6554      0.343      1.911      0.056      -0.017       1.327\n",
       "team[T.Ein Frankfurt]              0.4367      0.363      1.202      0.229      -0.275       1.149\n",
       "team[T.Fortuna Dusseldorf]        -0.0739      0.404     -0.183      0.855      -0.865       0.718\n",
       "team[T.Freiburg]                  -0.2360      0.424     -0.557      0.577      -1.066       0.594\n",
       "team[T.Hannover]                  -0.3079      0.437     -0.705      0.481      -1.164       0.549\n",
       "team[T.Hertha]                    -0.1294      0.410     -0.315      0.753      -0.934       0.675\n",
       "team[T.Hoffenheim]                 0.5360      0.350      1.533      0.125      -0.149       1.221\n",
       "team[T.Leverkusen]                -0.2138      0.424     -0.505      0.614      -1.044       0.617\n",
       "team[T.M'gladbach]                 0.5031      0.350      1.437      0.151      -0.183       1.189\n",
       "team[T.Mainz]                     -0.3951      0.437     -0.905      0.366      -1.251       0.461\n",
       "team[T.Nurnberg]                  -0.2222      0.413     -0.538      0.591      -1.032       0.588\n",
       "team[T.RB Leipzig]                -0.1231      0.403     -0.305      0.760      -0.913       0.667\n",
       "team[T.Schalke 04]                 0.0150      0.395      0.038      0.970      -0.759       0.789\n",
       "team[T.Stuttgart]                 -0.5100      0.451     -1.130      0.258      -1.395       0.375\n",
       "team[T.Werder Bremen]             -0.0190      0.388     -0.049      0.961      -0.780       0.742\n",
       "team[T.Wolfsburg]                  0.1664      0.380      0.438      0.661      -0.578       0.911\n",
       "opponent[T.Bayern Munich]         -0.5060      0.382     -1.325      0.185      -1.254       0.242\n",
       "opponent[T.Dortmund]              -0.8862      0.445     -1.991      0.046      -1.759      -0.014\n",
       "opponent[T.Ein Frankfurt]         -0.3280      0.364     -0.902      0.367      -1.041       0.385\n",
       "opponent[T.Fortuna Dusseldorf]     0.2770      0.311      0.891      0.373      -0.332       0.886\n",
       "opponent[T.Freiburg]              -0.2784      0.348     -0.800      0.424      -0.960       0.404\n",
       "opponent[T.Hannover]               0.0716      0.319      0.224      0.823      -0.554       0.697\n",
       "opponent[T.Hertha]                -0.3168      0.353     -0.896      0.370      -1.010       0.376\n",
       "opponent[T.Hoffenheim]            -0.4101      0.372     -1.102      0.270      -1.139       0.319\n",
       "opponent[T.Leverkusen]             0.0340      0.332      0.103      0.918      -0.616       0.684\n",
       "opponent[T.M'gladbach]            -0.7928      0.425     -1.866      0.062      -1.625       0.040\n",
       "opponent[T.Mainz]                 -0.4028      0.383     -1.053      0.292      -1.153       0.347\n",
       "opponent[T.Nurnberg]               0.0722      0.323      0.223      0.823      -0.561       0.706\n",
       "opponent[T.RB Leipzig]            -1.1230      0.471     -2.384      0.017      -2.046      -0.200\n",
       "opponent[T.Schalke 04]            -0.4295      0.363     -1.185      0.236      -1.140       0.281\n",
       "opponent[T.Stuttgart]             -0.0058      0.326     -0.018      0.986      -0.645       0.633\n",
       "opponent[T.Werder Bremen]         -0.3350      0.363     -0.923      0.356      -1.046       0.376\n",
       "opponent[T.Wolfsburg]             -0.5283      0.380     -1.390      0.164      -1.273       0.217\n",
       "home                               0.2571      0.128      2.012      0.044       0.007       0.508\n",
       "==================================================================================================\n",
       "\"\"\""
      ]
     },
     "execution_count": 133,
     "metadata": {},
     "output_type": "execute_result"
    }
   ],
   "source": [
    "goal_model_data = pd.concat([df[['HomeTeam', 'AwayTeam', 'STHG']].assign(home=1).rename(\n",
    "            columns={'HomeTeam':'team', 'AwayTeam':'opponent', 'STHG':'goals'}),\n",
    "            df[['AwayTeam','HomeTeam','STAG']].assign(home=0).rename(\n",
    "            columns={'AwayTeam':'team', 'HomeTeam':'opponent', 'STAG':'goals'})])\n",
    "\n",
    "poisson_model_half2 = smf.glm(formula=\"goals ~ home + team + opponent\", data=goal_model_data, \n",
    "                        family=sm.families.Poisson()).fit()\n",
    "poisson_model_half2.summary()"
   ]
  },
  {
   "cell_type": "code",
   "execution_count": 134,
   "metadata": {},
   "outputs": [
    {
     "data": {
      "text/plain": [
       "0.72595065591090813"
      ]
     },
     "execution_count": 134,
     "metadata": {},
     "output_type": "execute_result"
    }
   ],
   "source": [
    "ley_bor_half2 = simulate_match(poisson_model_half2, \"Ein Frankfurt\", \"Leverkusen\", max_goals=10)\n",
    "# Ein Frankfurt win\n",
    "np.sum(np.tril(ley_bor_half2, -1))"
   ]
  },
  {
   "cell_type": "code",
   "execution_count": 135,
   "metadata": {},
   "outputs": [
    {
     "data": {
      "text/plain": [
       "0.18227452402506034"
      ]
     },
     "execution_count": 135,
     "metadata": {},
     "output_type": "execute_result"
    }
   ],
   "source": [
    "# draw\n",
    "np.sum(np.diag(ley_bor_half2))"
   ]
  },
  {
   "cell_type": "code",
   "execution_count": 136,
   "metadata": {},
   "outputs": [
    {
     "data": {
      "text/plain": [
       "0.091762056888964466"
      ]
     },
     "execution_count": 136,
     "metadata": {},
     "output_type": "execute_result"
    }
   ],
   "source": [
    "# Leverkusen win\n",
    "np.sum(np.triu(ley_bor_half2, 1))"
   ]
  },
  {
   "cell_type": "code",
   "execution_count": 137,
   "metadata": {},
   "outputs": [
    {
     "name": "stdout",
     "output_type": "stream",
     "text": [
      "\n",
      "First half:\n",
      "Ein Frankfurt's 0 goals probability:  0.476398010452\n",
      "Ein Frankfurt's 1 goals probability:  0.35324989543\n",
      "Ein Frankfurt's 2 goals probability:  0.130967684461\n",
      "Ein Frankfurt's 3 goals probability:  0.0323709166323\n",
      "Ein Frankfurt's 4 goals probability:  0.00600077176251\n",
      "\n",
      "Leverkusen's 0 goals probability:  0.734530838313\n",
      "Leverkusen's 1 goals probability:  0.226619876958\n",
      "Leverkusen's 2 goals probability:  0.0349587559526\n",
      "Leverkusen's 3 goals probability:  0.00359519689729\n",
      "Leverkusen's 4 goals probability:  0.00027730050122\n",
      "\n",
      "Second time:\n",
      "Ein Frankfurt's 0 goals probability:  0.122939201064\n",
      "Ein Frankfurt's 1 goals probability:  0.257688599024\n",
      "Ein Frankfurt's 2 goals probability:  0.270066071245\n",
      "Ein Frankfurt's 3 goals probability:  0.188692044361\n",
      "Ein Frankfurt's 4 goals probability:  0.0988777138158\n",
      "\n",
      "Leverkusen's 0 goals probability:  0.554956838256\n",
      "Leverkusen's 1 goals probability:  0.326787540658\n",
      "Leverkusen's 2 goals probability:  0.0962147768687\n",
      "Leverkusen's 3 goals probability:  0.0188854268419\n",
      "Leverkusen's 4 goals probability:  0.00278018116297\n"
     ]
    }
   ],
   "source": [
    "print('\\nFirst half:')\n",
    "for i in range(5):\n",
    "    print(f\"Ein Frankfurt's {i} goals probability: \", sum(ley_bor_half1[i]))\n",
    "print()\n",
    "for i in range(5):\n",
    "    print(f\"Leverkusen's {i} goals probability: \", sum(ley_bor_half1.T[i]))\n",
    "\n",
    "print('\\nSecond time:')\n",
    "for i in range(5):\n",
    "    print(f\"Ein Frankfurt's {i} goals probability: \", sum(ley_bor_half2[i]))\n",
    "print()\n",
    "for i in range(5):\n",
    "    print(f\"Leverkusen's {i} goals probability: \", sum(ley_bor_half2.T[i]))"
   ]
  }
 ],
 "metadata": {
  "kernelspec": {
   "display_name": "Python 3",
   "language": "python",
   "name": "python3"
  },
  "language_info": {
   "codemirror_mode": {
    "name": "ipython",
    "version": 3
   },
   "file_extension": ".py",
   "mimetype": "text/x-python",
   "name": "python",
   "nbconvert_exporter": "python",
   "pygments_lexer": "ipython3",
   "version": "3.6.3"
  }
 },
 "nbformat": 4,
 "nbformat_minor": 2
}
